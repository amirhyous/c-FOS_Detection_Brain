version https://git-lfs.github.com/spec/v1
oid sha256:4c384ae00b8b046ebc1902bbc3604564ad871720a49b9ba137835f5fba567a89
size 66370929
